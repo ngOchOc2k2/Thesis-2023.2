{
 "cells": [
  {
   "cell_type": "code",
   "execution_count": 52,
   "metadata": {},
   "outputs": [],
   "source": [
    "import torch\n",
    "from torch.utils.data import Dataset, DataLoader\n",
    "from transformers import AutoTokenizer\n",
    "import random\n",
    "import json\n",
    "import os\n",
    "from typing import List, Tuple\n",
    "import datasets\n",
    "\n",
    "class data_set_retrieval(Dataset):\n",
    "    def __init__(self, args):\n",
    "        if os.path.isdir(args.train_data):\n",
    "            train_datasets = []\n",
    "            for file in os.listdir(args.train_data):\n",
    "                temp_dataset = datasets.load_dataset('json', data_files=os.path.join(args.train_data, file), split='train')\n",
    "                train_datasets.append(temp_dataset)    \n",
    "            self.dataset = datasets.concatenate_datasets(train_datasets)\n",
    "            \n",
    "        else:\n",
    "            self.dataset = datasets.load_dataset('json', data_files=args.train_data, split='train')\n",
    "\n",
    "        self.tokenizer = AutoTokenizer.from_pretrained('BAAI/bge-m3')\n",
    "        self.args = args\n",
    "        self.total_len = len(self.dataset)\n",
    "        self.passage_max_len = args.passage_max_len\n",
    "        self.query_max_len = args.query_max_len\n",
    "\n",
    "    def __len__(self):\n",
    "        return self.total_len\n",
    "    \n",
    "    \n",
    "    def __getitem__(self, item) -> Tuple[str, List[str]]:\n",
    "        query = self.dataset[item]['query']\n",
    "        \n",
    "        passages_negative, passages_positive = [], []\n",
    "\n",
    "        assert isinstance(self.dataset[item]['pos'], list)\n",
    "        passages_positive.extend(self.dataset[item]['pos'])\n",
    "\n",
    "        passages_negative.extend(self.dataset[item]['neg'])\n",
    "        \n",
    "        return query, passages_positive, passages_negative\n",
    "\n",
    "\n",
    "    def collate_fn(self, batch):\n",
    "        query, positive, negative = zip(*batch)\n",
    "\n",
    "        if isinstance(query[0], list):\n",
    "            query = sum(query, [])\n",
    "        if isinstance(positive[0], list):\n",
    "            positive = sum(positive, [])\n",
    "        if isinstance(negative[0], list):\n",
    "            negative = sum(negative, [])\n",
    "\n",
    "        query_token = self.tokenizer(\n",
    "            query,\n",
    "            padding=True,\n",
    "            truncation=True,\n",
    "            max_length=self.query_max_len,\n",
    "            return_tensors=\"pt\",\n",
    "        )\n",
    "        positive_token = self.tokenizer(\n",
    "            positive,\n",
    "            padding=True,\n",
    "            truncation=True,\n",
    "            max_length=self.passage_max_len,\n",
    "            return_tensors=\"pt\",\n",
    "        )\n",
    "        \n",
    "        negative_token = self.tokenizer(\n",
    "            negative,\n",
    "            padding=True,\n",
    "            truncation=True,\n",
    "            max_length=self.passage_max_len,\n",
    "            return_tensors=\"pt\",\n",
    "        )\n",
    "        return query_token, positive_token, negative_token\n",
    "    "
   ]
  },
  {
   "cell_type": "code",
   "execution_count": 53,
   "metadata": {},
   "outputs": [],
   "source": [
    "class Args:\n",
    "    train_data = '/home/ltngoc/ngoclt/Thesis-2023.2/datasets/train_data/train_step_0/train_step_0.jsonl'\n",
    "    passage_max_len = 512\n",
    "    query_max_len = 64\n",
    "    \n",
    "args = Args"
   ]
  },
  {
   "cell_type": "code",
   "execution_count": 63,
   "metadata": {},
   "outputs": [],
   "source": [
    "x = data_set_retrieval(args=args)"
   ]
  },
  {
   "cell_type": "code",
   "execution_count": 66,
   "metadata": {},
   "outputs": [],
   "source": [
    "dataloader = DataLoader(x, batch_size=32, collate_fn=x.collate_fn)"
   ]
  }
 ],
 "metadata": {
  "kernelspec": {
   "display_name": "ngoclt",
   "language": "python",
   "name": "python3"
  },
  "language_info": {
   "codemirror_mode": {
    "name": "ipython",
    "version": 3
   },
   "file_extension": ".py",
   "mimetype": "text/x-python",
   "name": "python",
   "nbconvert_exporter": "python",
   "pygments_lexer": "ipython3",
   "version": "3.10.14"
  }
 },
 "nbformat": 4,
 "nbformat_minor": 2
}
