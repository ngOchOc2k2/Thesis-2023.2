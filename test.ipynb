{
 "cells": [
  {
   "cell_type": "code",
   "execution_count": 3,
   "metadata": {},
   "outputs": [
    {
     "name": "stdout",
     "output_type": "stream",
     "text": [
      "Task: 0\n",
      "Classifier: 0.9769634141100679, Retrieval: 1.0, Total: 0.9769634141100679\n",
      "Task: 1\n",
      "Classifier: 0.9705259113450928, Retrieval: 0.8710177210903225, Total: 0.8453737344029033\n",
      "Task: 2\n",
      "Classifier: 0.9742706126628022, Retrieval: 0.8902966661873226, Total: 0.8677439498674598\n",
      "Task: 3\n",
      "Classifier: 0.9745355988079109, Retrieval: 0.8643405644619987, Total: 0.8424646639328373\n",
      "Task: 4\n",
      "Classifier: 0.973260242098395, Retrieval: 0.853199874332013, Total: 0.8305335742167191\n",
      "Task: 5\n",
      "Classifier: 0.9723699638187393, Retrieval: 0.844596158649329, Total: 0.821446674742177\n",
      "Task: 6\n",
      "Classifier: 0.973665742971163, Retrieval: 0.8366050402409788, Total: 0.8146439657106411\n",
      "Task: 7\n",
      "Classifier: 0.9740460342672872, Retrieval: 0.8241031711086407, Total: 0.802718421598834\n",
      "Task: 8\n",
      "Classifier: 0.9765134344528239, Retrieval: 0.8246142484288617, Total: 0.8052711007097069\n",
      "Task: 9\n",
      "Classifier: 0.97554458979236, Retrieval: 0.8187837543041244, Total: 0.7987559936369223\n"
     ]
    }
   ],
   "source": [
    "from glob import glob\n",
    "import json\n",
    "\n",
    "path = glob('/home/luungoc/Thesis - 2023.2/Thesis-NgocLT/final/final/final_7-4/*.json')\n",
    "\n",
    "data = json.load(open(path[0], 'r'))\n",
    "\n",
    "total = [{} for _ in range(10)]\n",
    "\n",
    "for item in total:\n",
    "    item['task'] = 0\n",
    "    item['classifier'] = 0\n",
    "    item['retrieval'] = 0\n",
    "    item['total'] = 0\n",
    "    \n",
    "for pt in path:\n",
    "    data = json.load(open(pt, 'r'))\n",
    "    for idx, item in enumerate(data):\n",
    "        if idx == 0:\n",
    "            total[idx]['task'] = idx\n",
    "            total[idx]['classifier'] += item['classifier'][0]\n",
    "            total[idx]['retrieval'] += item['retrieval'][0]\n",
    "            total[idx]['total'] += item['total'][0]\n",
    "            \n",
    "        else:\n",
    "            total[idx]['task'] = idx\n",
    "            total[idx]['classifier'] += item['mean_classifier']\n",
    "            total[idx]['retrieval'] += item['mean_retrieval']\n",
    "            total[idx]['total'] += item['mean_total']   \n",
    "\n",
    "\n",
    "for item in total:\n",
    "    print(f\"Task: {item['task']}\")\n",
    "    print(f\"Classifier: {item['classifier'] / 5}, Retrieval: {item['retrieval'] / 5}, Total: {item['total'] / 5}\")"
   ]
  },
  {
   "cell_type": "markdown",
   "metadata": {},
   "source": [
    "### Get data FewRel"
   ]
  },
  {
   "cell_type": "code",
   "execution_count": 49,
   "metadata": {},
   "outputs": [
    {
     "data": {
      "text/plain": [
       "dict_keys(['org:founded_by', 'per:employee_of', 'org:alternate_names', 'per:cities_of_residence', 'per:children', 'per:title', 'per:siblings', 'per:religion', 'per:age', 'org:website', 'per:stateorprovinces_of_residence', 'org:member_of', 'org:top_members/employees', 'per:countries_of_residence', 'org:city_of_headquarters', 'org:members', 'org:country_of_headquarters', 'per:spouse', 'org:stateorprovince_of_headquarters', 'org:number_of_employees/members', 'org:parents', 'org:subsidiaries', 'per:origin', 'org:political/religious_affiliation', 'per:other_family', 'per:stateorprovince_of_birth', 'org:dissolved', 'per:date_of_death', 'org:shareholders', 'per:alternate_names', 'per:parents', 'per:schools_attended', 'per:cause_of_death', 'per:city_of_death', 'per:stateorprovince_of_death', 'org:founded', 'per:country_of_birth', 'per:date_of_birth', 'per:city_of_birth', 'per:charges'])"
      ]
     },
     "execution_count": 49,
     "metadata": {},
     "output_type": "execute_result"
    }
   ],
   "source": [
    "import json\n",
    "\n",
    "fewrel = json.load(open('/home/luungoc/Thesis - 2023.2/Thesis-NgocLT/datasets/standard/data_with_marker_tacred.json', 'r'))\n",
    "id2rel = json.load(open('/home/luungoc/Thesis - 2023.2/Thesis-NgocLT/datasets/standard/id2rel.json', 'r'))\n",
    "\n",
    "fewrel.keys()"
   ]
  },
  {
   "cell_type": "code",
   "execution_count": 48,
   "metadata": {},
   "outputs": [
    {
     "data": {
      "text/plain": [
       "56000"
      ]
     },
     "execution_count": 48,
     "metadata": {},
     "output_type": "execute_result"
    }
   ],
   "source": [
    "data = []\n",
    "data_train = {}\n",
    "\n",
    "for k, v in enumerate(fewrel):\n",
    "    data += fewrel[v]\n",
    "    \n",
    "# type_relation = ['P931', 'P4552', 'P3300', 'P1923']\n",
    "\n",
    "# for type in type_relation:\n",
    "#     data_train[type] = []\n",
    "    \n",
    "    \n",
    "# for index, sample in enumerate(data):\n",
    "#     # for type in type_relation:\n",
    "#         if type == sample['relation']: \n",
    "#             if len(data_train[type]) < 100:\n",
    "#                 data_train[type].append(sample)\n",
    "#                 break\n",
    "\n",
    "len(data)"
   ]
  },
  {
   "cell_type": "code",
   "execution_count": 42,
   "metadata": {},
   "outputs": [],
   "source": [
    "json.dump(total, open('./datasets/standard/negative_fewrel.json', 'w'), ensure_ascii=False)"
   ]
  },
  {
   "cell_type": "code",
   "execution_count": 1,
   "metadata": {},
   "outputs": [
    {
     "name": "stdout",
     "output_type": "stream",
     "text": [
      "https://s3.cloud.cmctelecom.vn/honda/20230327134222C0040629OUTC-023M%28E%29.pdf?AWSAccessKeyId=YF89NNJ3MQTE47WXENGY&Signature=Q4ay33LjGndNarIH35cgE6JSzdk%3D&Expires=1713177795\n"
     ]
    }
   ],
   "source": [
    "\n",
    "import boto3\n",
    "import os\n",
    "import json\n",
    "import glob\n",
    "from tqdm import tqdm\n",
    "\n",
    "AWS_ACCESS_KEY = 'YF89NNJ3MQTE47WXENGY'\n",
    "AWS_SECRET_KEY = 'jMdHSx9fMEEXCHCNEwUV0n9FE7BG1TTeBv9RNMhW'\n",
    "AWS_ENDPOINT = 'https://s3.cloud.cmctelecom.vn'\n",
    "AWS_BUCKET_NAME = 'honda'\n",
    "s3_object = boto3.client('s3',\n",
    "                  aws_access_key_id=AWS_ACCESS_KEY,\n",
    "                  aws_secret_access_key=AWS_SECRET_KEY,\n",
    "                  endpoint_url=AWS_ENDPOINT\n",
    "                  )\n",
    "object_name='20230327134222C0040629OUTC-023M(E).pdf'\n",
    "response = s3_object.generate_presigned_url('get_object',Params={'Bucket':AWS_BUCKET_NAME, 'Key':object_name})\n",
    "print(response)"
   ]
  }
 ],
 "metadata": {
  "kernelspec": {
   "display_name": "Python 3",
   "language": "python",
   "name": "python3"
  },
  "language_info": {
   "codemirror_mode": {
    "name": "ipython",
    "version": 3
   },
   "file_extension": ".py",
   "mimetype": "text/x-python",
   "name": "python",
   "nbconvert_exporter": "python",
   "pygments_lexer": "ipython3",
   "version": "3.10.12"
  }
 },
 "nbformat": 4,
 "nbformat_minor": 2
}
