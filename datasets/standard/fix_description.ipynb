{
 "cells": [
  {
   "cell_type": "code",
   "execution_count": 11,
   "metadata": {},
   "outputs": [],
   "source": [
    "import json\n",
    "\n",
    "\n",
    "fewrel = json.load(open('/home/haison/NgocLT/Thesis-NgocLT/datasets/standard/description_fewrel.json', 'r'))"
   ]
  },
  {
   "cell_type": "code",
   "execution_count": 13,
   "metadata": {},
   "outputs": [],
   "source": [
    "fewrel.keys()\n",
    "\n",
    "\n",
    "fix_fewrel = []\n",
    "\n",
    "for keys, value in enumerate(fewrel):\n",
    "    fix_fewrel.append({\n",
    "        'relation': value,\n",
    "        'text': fewrel[value][1],\n",
    "        'short': fewrel[value][0]\n",
    "    })"
   ]
  },
  {
   "cell_type": "code",
   "execution_count": 10,
   "metadata": {},
   "outputs": [],
   "source": [
    "json.dump(fix_fewrel, open('/home/haison/NgocLT/Thesis-NgocLT/datasets/standard/description_fewrel.json', 'w'), ensure_ascii=False)"
   ]
  }
 ],
 "metadata": {
  "kernelspec": {
   "display_name": "Python 3",
   "language": "python",
   "name": "python3"
  },
  "language_info": {
   "codemirror_mode": {
    "name": "ipython",
    "version": 3
   },
   "file_extension": ".py",
   "mimetype": "text/x-python",
   "name": "python",
   "nbconvert_exporter": "python",
   "pygments_lexer": "ipython3",
   "version": "3.10.12"
  }
 },
 "nbformat": 4,
 "nbformat_minor": 2
}
